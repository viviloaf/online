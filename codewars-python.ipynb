{
 "metadata": {
  "language_info": {
   "codemirror_mode": {
    "name": "ipython",
    "version": 3
   },
   "file_extension": ".py",
   "mimetype": "text/x-python",
   "name": "python",
   "nbconvert_exporter": "python",
   "pygments_lexer": "ipython3",
   "version": "3.7.4-final"
  },
  "orig_nbformat": 2,
  "kernelspec": {
   "name": "python3",
   "display_name": "Python 3",
   "language": "python"
  }
 },
 "nbformat": 4,
 "nbformat_minor": 2,
 "cells": [
  {
   "cell_type": "code",
   "execution_count": 1,
   "metadata": {},
   "outputs": [],
   "source": [
    "good, evil = '1 1 1 1 1 1', '1 1 1 1 1 1 1'"
   ]
  },
  {
   "cell_type": "code",
   "execution_count": null,
   "metadata": {},
   "outputs": [],
   "source": []
  },
  {
   "cell_type": "code",
   "execution_count": 11,
   "metadata": {},
   "outputs": [],
   "source": [
    "a = [int(i) for i in good.split(\" \")]\n",
    "b = [1, 2, 3, 3, 4, 10]"
   ]
  },
  {
   "cell_type": "code",
   "execution_count": 18,
   "metadata": {},
   "outputs": [
    {
     "output_type": "execute_result",
     "data": {
      "text/plain": [
       "[(1, 1), (1, 2), (1, 3), (1, 3), (1, 4), (1, 10)]"
      ]
     },
     "metadata": {},
     "execution_count": 18
    }
   ],
   "source": [
    "list(zip(a,b))"
   ]
  },
  {
   "cell_type": "code",
   "execution_count": 19,
   "metadata": {},
   "outputs": [],
   "source": [
    "def goodVsEvil(good, evil):\n",
    "    #TODO Go get'em boys...\n",
    "    good_key = [1, 2, 3, 3, 4, 10]\n",
    "    evil_key = [1, 2, 2, 2, 3, 5, 10]\n",
    "    \n",
    "    good = [int(i) for i in good.split(\" \")]\n",
    "    evil = [int(i) for i in evil.split(\" \")]\n",
    "    \n",
    "    good = sum([i * j for i,j in list(zip(good, good_key))])\n",
    "    evil = sum([i * j for i,j in list(zip(evil, evil_key))])\n",
    "    if good > evil:\n",
    "        return \"Battle Result: Good triumphs over Evil\"\n",
    "    if evil > good:\n",
    "        return \"Battle Result: Evil eradicates all trace of Good\"\n",
    "    else:\n",
    "        return \"Battle Result: No victor on this battle field\""
   ]
  },
  {
   "cell_type": "code",
   "execution_count": 1,
   "metadata": {},
   "outputs": [
    {
     "output_type": "execute_result",
     "data": {
      "text/plain": [
       "['X', 'X', 'I']"
      ]
     },
     "metadata": {},
     "execution_count": 1
    }
   ],
   "source": [
    "[i for i in 'XXI']"
   ]
  },
  {
   "cell_type": "code",
   "execution_count": 2,
   "metadata": {},
   "outputs": [],
   "source": [
    "def solution(roman):\n",
    "    ''' Convert Roman Numbers to Decimal Numbers\n",
    "    This is a very sketch solution but it works\n",
    "\n",
    "    Args:\n",
    "        roman (string): A string representing roman numerals\n",
    "\n",
    "    Yields:\n",
    "        int: a decimal number\n",
    "\n",
    "    '''\n",
    "    roman_to_decimal = {\n",
    "                      \"I\":1,\n",
    "                      \"V\":5,\n",
    "                      \"X\":10,\n",
    "                      \"L\":50,\n",
    "                      \"C\":100,\n",
    "                      \"D\":500,\n",
    "                      \"M\":1_000}\n",
    "    decimal_numbers = [roman_to_decimal.get(i) for i in roman]\n",
    "    output = 0\n",
    "    for index,number in list(zip(range(0,len(decimal_numbers)+1),decimal_numbers)):\n",
    "        if number > decimal_numbers[index-1] and index != 0:\n",
    "            '''\n",
    "            This right here is the sketch part because it is doing twice the work\n",
    "\n",
    "            Case will always add the first number, in the case of IV = [1, 5]\n",
    "\n",
    "            This function will add 1\n",
    "                output = 0 + 1 = 1\n",
    "            Then the second time around, it will add 5+\n",
    "                output = 1 + 5 = 6\n",
    "            But because of Roman Numeral Formatting, if there is a smaller number\n",
    "                in front of a larger number, then it is meant to be subtracted\n",
    "\n",
    "            E.g: IX = 9\n",
    "                This function would see it as\n",
    "                    IX > [1, 10] > 0 + 1 + 10 - (1 * 2)\n",
    "                Again, it's complicated, but it works\n",
    "            '''\n",
    "            output = output + number - decimal_numbers[index-1] * 2\n",
    "        else:\n",
    "            output = output + number\n",
    "        \n",
    "    return output"
   ]
  },
  {
   "cell_type": "code",
   "execution_count": 3,
   "metadata": {},
   "outputs": [],
   "source": [
    "def is_valid_IP(string):\n",
    "    '''Checks if a string can be a valid IPv4 address with maximium address 255.255.255.255\n",
    "    \n",
    "    Args:\n",
    "        string (string): A string representing an IPv4 address\n",
    "        \n",
    "    Yields:\n",
    "        bool: True or False\n",
    "        \n",
    "    '''\n",
    "    alphabet = 'abcdefghijklmnopqrstuvwxyz '\n",
    "    numbers = '1234567890'\n",
    "    octet_list = string.split(\".\")\n",
    "    if len(octet_list) != 4:\n",
    "        return False\n",
    "    for octet in octet_list:\n",
    "        try:\n",
    "            if int(octet) > 255 or int(octet) < 0:\n",
    "                return False\n",
    "            if octet[0] == '0' and len(octet) > 1:\n",
    "                return False\n",
    "        except:\n",
    "            return False\n",
    "        for element in octet:\n",
    "            if element.lower() in alphabet:\n",
    "                return False\n",
    "            else:\n",
    "                pass\n",
    "    return True\n",
    "            "
   ]
  },
  {
   "cell_type": "code",
   "execution_count": 1,
   "metadata": {},
   "outputs": [],
   "source": [
    "recipe = {\"flour\": 500, \"sugar\": 200, \"eggs\": 1}"
   ]
  },
  {
   "cell_type": "code",
   "execution_count": 4,
   "metadata": {},
   "outputs": [
    {
     "output_type": "execute_result",
     "data": {
      "text/plain": [
       "[('flour', 500), ('sugar', 200), ('eggs', 1)]"
      ]
     },
     "metadata": {},
     "execution_count": 4
    }
   ],
   "source": [
    "[(i, recipe.get(i)) for i in recipe]"
   ]
  },
  {
   "cell_type": "code",
   "execution_count": 7,
   "metadata": {},
   "outputs": [
    {
     "output_type": "execute_result",
     "data": {
      "text/plain": [
       "['flour', 'sugar', 'eggs']"
      ]
     },
     "metadata": {},
     "execution_count": 7
    }
   ],
   "source": [
    "list(recipe.keys())"
   ]
  },
  {
   "cell_type": "code",
   "execution_count": 8,
   "metadata": {},
   "outputs": [
    {
     "output_type": "execute_result",
     "data": {
      "text/plain": [
       "NoneType"
      ]
     },
     "metadata": {},
     "execution_count": 8
    }
   ],
   "source": [
    "type(None)"
   ]
  },
  {
   "cell_type": "code",
   "execution_count": 10,
   "metadata": {},
   "outputs": [],
   "source": [
    "def cakes(recipe, available):\n",
    "    ''' Pass two dicts into the function\n",
    "    \n",
    "    Args:\n",
    "        recipe (dict): how much of each ingredient it takes for one cake\n",
    "        available (dict): the amount of ingredients on hand\n",
    "    \n",
    "    Yields:\n",
    "        int: number of cakes that can be made\n",
    "    '''\n",
    "    # TODO: insert code\n",
    "    \n",
    "    # This is just a single list comprehension\n",
    "    return min(\n",
    "        [\n",
    "            (\n",
    "                (0 if type(None) and i not in list(available.keys())\n",
    "                 else available.get(i)) // recipe.get(i)\n",
    "            ) for i in recipe\n",
    "        ]\n",
    "    )\n",
    "    "
   ]
  },
  {
   "cell_type": "code",
   "execution_count": 12,
   "metadata": {},
   "outputs": [],
   "source": [
    "def alphanumeric(password):\n",
    "    '''Checks a given string if it fits the rules\n",
    "    \n",
    "    Args:\n",
    "        password (string): alphanumeric string\n",
    "        \n",
    "    Yields:\n",
    "        bool: string is or is not a valid password\n",
    "    '''\n",
    "    legal_characters = 'abcdefghijklmnopqrstuvwxyz0123456789'\n",
    "    illegal_characters = \" _\"\n",
    "    \n",
    "    if len(password) == 0:\n",
    "        return False\n",
    "    \n",
    "    for i in password:\n",
    "        if i.lower() not in legal_characters:\n",
    "            return False\n",
    "        if i in illegal_characters:\n",
    "            return False\n",
    "    \n",
    "    return True"
   ]
  },
  {
   "cell_type": "code",
   "execution_count": null,
   "metadata": {},
   "outputs": [],
   "source": []
  }
 ]
}