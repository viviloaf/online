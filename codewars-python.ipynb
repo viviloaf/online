{
 "metadata": {
  "language_info": {
   "codemirror_mode": {
    "name": "ipython",
    "version": 3
   },
   "file_extension": ".py",
   "mimetype": "text/x-python",
   "name": "python",
   "nbconvert_exporter": "python",
   "pygments_lexer": "ipython3",
   "version": "3.8.6-final"
  },
  "orig_nbformat": 2,
  "kernelspec": {
   "name": "python3",
   "display_name": "Python 3",
   "language": "python"
  }
 },
 "nbformat": 4,
 "nbformat_minor": 2,
 "cells": [
  {
   "cell_type": "code",
   "execution_count": 1,
   "metadata": {},
   "outputs": [],
   "source": [
    "good, evil = '1 1 1 1 1 1', '1 1 1 1 1 1 1'"
   ]
  },
  {
   "cell_type": "code",
   "execution_count": null,
   "metadata": {},
   "outputs": [],
   "source": []
  },
  {
   "cell_type": "code",
   "execution_count": 11,
   "metadata": {},
   "outputs": [],
   "source": [
    "a = [int(i) for i in good.split(\" \")]\n",
    "b = [1, 2, 3, 3, 4, 10]"
   ]
  },
  {
   "cell_type": "code",
   "execution_count": 18,
   "metadata": {},
   "outputs": [
    {
     "output_type": "execute_result",
     "data": {
      "text/plain": [
       "[(1, 1), (1, 2), (1, 3), (1, 3), (1, 4), (1, 10)]"
      ]
     },
     "metadata": {},
     "execution_count": 18
    }
   ],
   "source": [
    "list(zip(a,b))"
   ]
  },
  {
   "cell_type": "code",
   "execution_count": 19,
   "metadata": {},
   "outputs": [],
   "source": [
    "def goodVsEvil(good, evil):\n",
    "    #TODO Go get'em boys...\n",
    "    good_key = [1, 2, 3, 3, 4, 10]\n",
    "    evil_key = [1, 2, 2, 2, 3, 5, 10]\n",
    "    \n",
    "    good = [int(i) for i in good.split(\" \")]\n",
    "    evil = [int(i) for i in evil.split(\" \")]\n",
    "    \n",
    "    good = sum([i * j for i,j in list(zip(good, good_key))])\n",
    "    evil = sum([i * j for i,j in list(zip(evil, evil_key))])\n",
    "    if good > evil:\n",
    "        return \"Battle Result: Good triumphs over Evil\"\n",
    "    if evil > good:\n",
    "        return \"Battle Result: Evil eradicates all trace of Good\"\n",
    "    else:\n",
    "        return \"Battle Result: No victor on this battle field\""
   ]
  },
  {
   "cell_type": "code",
   "execution_count": null,
   "metadata": {},
   "outputs": [],
   "source": []
  }
 ]
}